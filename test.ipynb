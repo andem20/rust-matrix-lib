{
 "cells": [
  {
   "cell_type": "code",
   "execution_count": 1,
   "metadata": {},
   "outputs": [],
   "source": [
    "import numpy as np"
   ]
  },
  {
   "cell_type": "code",
   "execution_count": 5,
   "metadata": {},
   "outputs": [
    {
     "data": {
      "text/plain": [
       "array([[[4.66347462e-310, 0.00000000e+000, 6.90581333e-310],\n",
       "        [6.90581333e-310, 6.90581333e-310, 6.90581333e-310],\n",
       "        [6.90581333e-310, 6.90581333e-310, 6.90581333e-310],\n",
       "        [6.90581333e-310, 6.90581333e-310, 6.90581333e-310]],\n",
       "\n",
       "       [[6.90581333e-310, 6.90581333e-310, 6.90581333e-310],\n",
       "        [6.90581333e-310, 6.90581333e-310, 6.90581333e-310],\n",
       "        [6.90581333e-310, 6.90581333e-310, 6.90581333e-310],\n",
       "        [6.90581333e-310, 6.90581333e-310, 6.90581333e-310]],\n",
       "\n",
       "       [[6.90581333e-310, 6.90581333e-310, 6.90581333e-310],\n",
       "        [6.90581424e-310, 6.90581425e-310, 6.90581428e-310],\n",
       "        [6.90581424e-310, 6.90581424e-310, 6.90581425e-310],\n",
       "        [6.90581424e-310, 6.90581424e-310, 6.90581424e-310]],\n",
       "\n",
       "       [[6.90581424e-310, 6.90581424e-310, 6.90581424e-310],\n",
       "        [6.90581424e-310, 6.90581424e-310, 6.90581425e-310],\n",
       "        [6.90581425e-310, 6.90581425e-310, 6.90581425e-310],\n",
       "        [6.90581425e-310, 6.90581425e-310, 6.90581425e-310]]])"
      ]
     },
     "execution_count": 5,
     "metadata": {},
     "output_type": "execute_result"
    }
   ],
   "source": [
    "np.ndarray(shape=(4, 4, 3))"
   ]
  }
 ],
 "metadata": {
  "kernelspec": {
   "display_name": "Python 3",
   "language": "python",
   "name": "python3"
  },
  "language_info": {
   "codemirror_mode": {
    "name": "ipython",
    "version": 3
   },
   "file_extension": ".py",
   "mimetype": "text/x-python",
   "name": "python",
   "nbconvert_exporter": "python",
   "pygments_lexer": "ipython3",
   "version": "3.10.12"
  }
 },
 "nbformat": 4,
 "nbformat_minor": 2
}
